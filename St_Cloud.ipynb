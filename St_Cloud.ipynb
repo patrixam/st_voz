{
 "cells": [
  {
   "cell_type": "code",
   "execution_count": null,
   "id": "27c1bee9",
   "metadata": {},
   "outputs": [],
   "source": [
    "import streamlit as st\n",
    "from streamlit_webrtc import webrtc_streamer, AudioProcessorBase, WebRtcMode\n",
    "from streamlit_autorefresh import st_autorefresh\n",
    "import numpy as np\n",
    "import av\n",
    "import io\n",
    "import wave\n",
    "import time\n",
    "import queue\n",
    "import speech_recognition as sr\n",
    "from gtts import gTTS\n",
    "import base64"
   ]
  },
  {
   "cell_type": "code",
   "execution_count": null,
   "id": "f72f07f4",
   "metadata": {},
   "outputs": [],
   "source": [
    "# Configuración de ICE (STUN y TURN)\n",
    "rtc_configuration = {\n",
    "    \"iceServers\": [\n",
    "        {\"urls\": [\"stun:stun.l.google.com:19302\"]},\n",
    "        {\n",
    "            \"urls\": [\"turn:relay1.expressturn.com:3478\"],\n",
    "            \"username\": \"efBBNFJF1809NYOOA7\",\n",
    "            \"credential\": \"mFYpag3yUL3bHv9j\"\n",
    "        }\n",
    "    ]\n",
    "}"
   ]
  },
  {
   "cell_type": "code",
   "execution_count": null,
   "id": "bceea599",
   "metadata": {},
   "outputs": [],
   "source": [
    "# Título y descripción\n",
    "st.title(\"Conversación de Voz a Texto y Síntesis de Voz\")\n",
    "st.markdown(\"\"\"\n",
    "Esta aplicación captura tu voz, la convierte a texto y genera una respuesta automáticamente.  \n",
    "El sistema mantiene el historial de la conversación y, una vez que se responde, vuelve a escuchar.\n",
    "\"\"\")"
   ]
  },
  {
   "cell_type": "code",
   "execution_count": null,
   "id": "2db6be47",
   "metadata": {
    "lines_to_next_cell": 1
   },
   "outputs": [],
   "source": [
    "# Inicializar variables de sesión para el modo y el historial\n",
    "if \"conversation_history\" not in st.session_state:\n",
    "    st.session_state.conversation_history = []  # Lista de tuplas (emisor, mensaje)\n",
    "if \"mode\" not in st.session_state:\n",
    "    st.session_state.mode = \"idle\"  # Puede ser \"idle\", \"listening\" o \"responding\""
   ]
  },
  {
   "cell_type": "code",
   "execution_count": null,
   "id": "f5e8aa2b",
   "metadata": {
    "lines_to_next_cell": 1
   },
   "outputs": [],
   "source": [
    "# --- Definición de AudioProcessor ---\n",
    "class AudioProcessor(AudioProcessorBase):\n",
    "    def __init__(self):\n",
    "        super().__init__()\n",
    "        self.frames = []\n",
    "\n",
    "    async def recv_queued(self) -> av.AudioFrame:\n",
    "        frames = []\n",
    "        while not self.queued_frames.empty():\n",
    "            frame = await self.queued_frames.get()\n",
    "            frames.append(frame)\n",
    "        if frames:\n",
    "            self.frames.extend(frames)\n",
    "            # Retornamos el último frame para mantener la actualización interna\n",
    "            return frames[-1]\n",
    "        return None"
   ]
  },
  {
   "cell_type": "code",
   "execution_count": null,
   "id": "244c5916",
   "metadata": {
    "lines_to_next_cell": 1
   },
   "outputs": [],
   "source": [
    "# --- Inicializar streamlit-webrtc (modo SENDONLY para capturar sin reproducir localmente) ---\n",
    "webrtc_ctx = webrtc_streamer(\n",
    "    key=\"speech-to-text\",\n",
    "    mode=WebRtcMode.SENDONLY,\n",
    "    rtc_configuration=rtc_configuration,\n",
    "    media_stream_constraints={\"audio\": True, \"video\": False},\n",
    "    audio_processor_factory=AudioProcessor,\n",
    "    audio_receiver_size=1024,\n",
    ")"
   ]
  },
  {
   "cell_type": "code",
   "execution_count": null,
   "id": "4d631d69",
   "metadata": {
    "lines_to_next_cell": 1
   },
   "outputs": [],
   "source": [
    "# --- Función: convertir frames a WAV ---\n",
    "def frames_to_wav(frames):\n",
    "    try:\n",
    "        all_samples = np.concatenate([frame.to_ndarray() for frame in frames], axis=1)\n",
    "    except Exception as e:\n",
    "        st.error(f\"Error al concatenar frames: {e}\")\n",
    "        return None\n",
    "\n",
    "    sample_rate = frames[0].sample_rate if frames else 48000\n",
    "    try:\n",
    "        n_channels = frames[0].layout.channels\n",
    "        if not n_channels or n_channels < 1:\n",
    "            raise ValueError(\"Número de canales no válido\")\n",
    "    except Exception as e:\n",
    "        st.warning(\"No se pudo obtener el número de canales, usando 2 por defecto.\")\n",
    "        n_channels = 2\n",
    "\n",
    "    wav_bytes_io = io.BytesIO()\n",
    "    try:\n",
    "        with wave.open(wav_bytes_io, \"wb\") as wf:\n",
    "            wf.setnchannels(n_channels)\n",
    "            wf.setsampwidth(2)  # 16 bits = 2 bytes\n",
    "            wf.setframerate(sample_rate)\n",
    "            if all_samples.dtype != np.int16:\n",
    "                all_samples = all_samples.astype(np.int16)\n",
    "            wf.writeframes(all_samples.tobytes())\n",
    "        wav_bytes_io.seek(0)\n",
    "        return wav_bytes_io\n",
    "    except Exception as e:\n",
    "        st.error(f\"Error al crear el archivo WAV: {e}\")\n",
    "        return None"
   ]
  },
  {
   "cell_type": "code",
   "execution_count": null,
   "id": "e00d63f1",
   "metadata": {
    "lines_to_next_cell": 1
   },
   "outputs": [],
   "source": [
    "# --- Función: convertir audio capturado a texto ---\n",
    "def speech_to_text():\n",
    "    # Esperamos unos segundos para acumular audio\n",
    "    time.sleep(3)\n",
    "    try:\n",
    "        frames = webrtc_ctx.audio_receiver.get_frames(timeout=3)\n",
    "    except queue.Empty:\n",
    "        st.error(\"No se recibió audio en el tiempo esperado.\")\n",
    "        return None\n",
    "\n",
    "    if not frames:\n",
    "        st.error(\"No hay frames de audio para procesar.\")\n",
    "        return None\n",
    "\n",
    "    wav_file = frames_to_wav(frames)\n",
    "    if not wav_file:\n",
    "        st.error(\"Error al crear el archivo de audio.\")\n",
    "        return None\n",
    "\n",
    "    reconocedor = sr.Recognizer()\n",
    "    try:\n",
    "        with sr.AudioFile(wav_file) as source:\n",
    "            audio_data = reconocedor.record(source)\n",
    "        texto = reconocedor.recognize_google(audio_data, language=\"es-ES\")\n",
    "        return texto\n",
    "    except sr.UnknownValueError:\n",
    "        st.error(\"No se entendió lo que dijiste.\")\n",
    "        return None\n",
    "    except sr.RequestError as e:\n",
    "        st.error(f\"Error en el servicio de reconocimiento: {e}\")\n",
    "        return None"
   ]
  },
  {
   "cell_type": "code",
   "execution_count": null,
   "id": "895b7c85",
   "metadata": {
    "lines_to_next_cell": 1
   },
   "outputs": [],
   "source": [
    "# --- Función: sintetiza respuesta con gTTS y retorna texto y audio en base64 ---\n",
    "def responder_con_gTTS(texto):\n",
    "    if \"hola\" in texto.lower():\n",
    "        resp = \"¡Hola! ¿Cómo puedo ayudarte?\"\n",
    "    elif \"adiós\" in texto.lower():\n",
    "        resp = \"Adiós, que tengas un buen día.\"\n",
    "    else:\n",
    "        resp = \"No estoy seguro de cómo responder a eso.\"\n",
    "    try:\n",
    "        tts = gTTS(resp, lang=\"es\")\n",
    "        audio_bytes = io.BytesIO()\n",
    "        tts.write_to_fp(audio_bytes)\n",
    "        audio_bytes.seek(0)\n",
    "        audio_base64 = base64.b64encode(audio_bytes.read()).decode(\"utf-8\")\n",
    "        return resp, audio_base64\n",
    "    except Exception as e:\n",
    "        st.error(f\"Error al sintetizar la voz: {e}\")\n",
    "        return resp, None"
   ]
  },
  {
   "cell_type": "code",
   "execution_count": null,
   "id": "6b4bf842",
   "metadata": {
    "lines_to_next_cell": 1
   },
   "outputs": [],
   "source": [
    "# --- Función: inyecta HTML para reproducir audio automáticamente ---\n",
    "def reproducir_audio_autoplay(audio_base64):\n",
    "    html_code = f\"\"\"\n",
    "        <audio autoplay>\n",
    "            <source src=\"data:audio/mp3;base64,{audio_base64}\" type=\"audio/mp3\">\n",
    "            Tu navegador no soporta la reproducción automática.\n",
    "        </audio>\n",
    "    \"\"\"\n",
    "    st.markdown(html_code, unsafe_allow_html=True)"
   ]
  },
  {
   "cell_type": "code",
   "execution_count": null,
   "id": "911cc7d1",
   "metadata": {},
   "outputs": [],
   "source": [
    "# --- Modo conversacional ---\n",
    "# Si el modo es \"idle\" mostramos un botón para iniciar la conversación\n",
    "if st.session_state.mode == \"idle\":\n",
    "    if st.button(\"Iniciar Conversación\"):\n",
    "        st.session_state.mode = \"listening\"\n",
    "        st.experimental_rerun()"
   ]
  },
  {
   "cell_type": "markdown",
   "id": "cb683d6e",
   "metadata": {},
   "source": [
    "Si estamos en modo \"listening\" o \"responding\", activa autorefresh (cada 1 segundo)\n",
    "if st.session_state.mode in [\"listening\", \"responding\"]:\n",
    "   st_autorefresh(interval=1000, limit=0, key=\"conversation_refresh\")"
   ]
  },
  {
   "cell_type": "code",
   "execution_count": null,
   "id": "11782257",
   "metadata": {},
   "outputs": [],
   "source": [
    "# Lógica para el modo \"listening\": grabar y convertir a texto\n",
    "if st.session_state.mode == \"listening\":\n",
    "    st.info(\"Escuchando... Por favor, habla ahora.\")\n",
    "    texto_dicho = speech_to_text()\n",
    "    if texto_dicho is not None:\n",
    "        st.session_state.conversation_history.append((\"Usuario\", texto_dicho))\n",
    "        st.session_state.mode = \"responding\"\n",
    "        st.experimental_rerun()"
   ]
  },
  {
   "cell_type": "code",
   "execution_count": null,
   "id": "ff78d2d6",
   "metadata": {},
   "outputs": [],
   "source": [
    "# Lógica para el modo \"responding\": generar respuesta y reproducir audio\n",
    "if st.session_state.mode == \"responding\":\n",
    "    st.info(\"Generando respuesta...\")\n",
    "    # Se usa el último mensaje del usuario para generar respuesta\n",
    "    texto_ultimo = st.session_state.conversation_history[-1][1]\n",
    "    respuesta_texto, audio_base64 = responder_con_gTTS(texto_ultimo)\n",
    "    st.session_state.conversation_history.append((\"Sistema\", respuesta_texto))\n",
    "    st.write(f\"**Respuesta:** {respuesta_texto}\")\n",
    "    if audio_base64:\n",
    "        reproducir_audio_autoplay(audio_base64)\n",
    "    # Luego, una vez reproducida la respuesta, se vuelve a escuchar.\n",
    "    # Ajusta el tiempo de espera según la duración del audio (aquí ponemos 5 segundos por ejemplo)\n",
    "    time.sleep(5)\n",
    "    st.session_state.mode = \"listening\"\n",
    "    st.experimental_rerun()"
   ]
  },
  {
   "cell_type": "code",
   "execution_count": null,
   "id": "5c77d9aa",
   "metadata": {},
   "outputs": [],
   "source": [
    "# Mostrar el historial de conversación\n",
    "st.markdown(\"### Historial de la Conversación\")\n",
    "for emisor, mensaje in st.session_state.conversation_history:\n",
    "    st.write(f\"**{emisor}:** {mensaje}\")"
   ]
  },
  {
   "cell_type": "code",
   "execution_count": null,
   "id": "06173547",
   "metadata": {},
   "outputs": [],
   "source": [
    "# Botón para limpiar la conversación\n",
    "if st.button(\"Limpiar Conversación\"):\n",
    "    st.session_state.conversation_history = []\n",
    "    st.session_state.mode = \"idle\"\n",
    "    st.experimental_rerun()"
   ]
  },
  {
   "cell_type": "code",
   "execution_count": null,
   "id": "9f7635f0",
   "metadata": {},
   "outputs": [],
   "source": []
  },
  {
   "cell_type": "code",
   "execution_count": null,
   "id": "960ac318",
   "metadata": {},
   "outputs": [],
   "source": []
  },
  {
   "cell_type": "code",
   "execution_count": null,
   "id": "b031e463",
   "metadata": {},
   "outputs": [],
   "source": []
  },
  {
   "cell_type": "code",
   "execution_count": null,
   "id": "17122524",
   "metadata": {
    "lines_to_next_cell": 2
   },
   "outputs": [],
   "source": []
  }
 ],
 "metadata": {
  "jupytext": {
   "cell_metadata_filter": "-all",
   "main_language": "python",
   "notebook_metadata_filter": "-all"
  }
 },
 "nbformat": 4,
 "nbformat_minor": 5
}
